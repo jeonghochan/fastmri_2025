{
 "cells": [
  {
   "cell_type": "code",
   "execution_count": 5,
   "id": "cd36b210",
   "metadata": {},
   "outputs": [],
   "source": [
    "import os\n",
    "import glob\n",
    "import random\n",
    "import argparse\n",
    "\n",
    "import h5py\n",
    "import numpy as np\n",
    "import torch\n",
    "import torch.nn as nn\n",
    "import torch.nn.functional as F\n",
    "import torch.optim as optim\n",
    "from torch.utils.data import Dataset, DataLoader, random_split\n",
    "from subsample import RandomMaskFunc"
   ]
  },
  {
   "cell_type": "code",
   "execution_count": 6,
   "id": "3f8b04e9",
   "metadata": {},
   "outputs": [],
   "source": [
    "def label_from_name(fname):\n",
    "    low = fname.lower()\n",
    "    if \"brain\" in low:\n",
    "        return 1\n",
    "    elif \"knee\" in low:\n",
    "        return 0\n",
    "    else:\n",
    "        raise ValueError(f\"Cannot extract label from {fname}\")\n"
   ]
  },
  {
   "cell_type": "code",
   "execution_count": 15,
   "id": "7d05c69d",
   "metadata": {},
   "outputs": [],
   "source": [
    "class KSpaceDataset(Dataset):\n",
    "    def __init__(self, filepaths, ds='kspace', num_slices=4,\n",
    "                 noise_std=0.01, flip_prob=0.5,\n",
    "                 center_fractions=[0.08], accelerations=[4,8]):\n",
    "        self.paths = filepaths\n",
    "        self.ds = ds\n",
    "        self.num_slices = num_slices\n",
    "        self.noise_std = noise_std\n",
    "        self.flip_prob = flip_prob\n",
    "        self.mask_func = RandomMaskFunc(\n",
    "            center_fractions=center_fractions,\n",
    "            accelerations=accelerations,\n",
    "            allow_any_combination=True\n",
    "        )\n",
    "        # fixed padding size\n",
    "        self.max_h, self.max_w = 0, 0\n",
    "        for path in self.paths:\n",
    "            with h5py.File(path, 'r') as f:\n",
    "                arr = f[self.ds][()]\n",
    "            if arr.shape[-1] <= 32:\n",
    "                arr = np.moveaxis(arr, -1, 1)\n",
    "            _, _, Ky, Kx = arr.shape\n",
    "            self.max_h = max(self.max_h, Ky)\n",
    "            self.max_w = max(self.max_w, Kx)\n",
    "\n",
    "    def __len__(self):\n",
    "        return len(self.paths)\n",
    "\n",
    "    \n",
    "    def __getitem__(self, idx):\n",
    "        path = self.paths[idx]\n",
    "        # 1) load original k-space & mask volume\n",
    "        with h5py.File(path, 'r') as f:\n",
    "            arr   = f[self.ds][()]\n",
    "            maskk = f[\"mask\"][()]\n",
    "        if arr.shape[-1] <= 32:\n",
    "            arr   = np.moveaxis(arr, -1, 1)\n",
    "            maskk = np.moveaxis(maskk, -1, 1)\n",
    "\n",
    "        k1 = torch.from_numpy(arr)           # 원본\n",
    "        k2 = torch.from_numpy(arr * maskk)   # mask 적용된\n",
    "\n",
    "        # 공통 슬라이스 인덱스 계산\n",
    "        S, C, Ky, Kx = k2.shape\n",
    "        idxs = [0, S//3, (S*2)//3]\n",
    "\n",
    "        # 2) k2_ori: mask 적용 전 슬라이스\n",
    "        k2_ori = k2[idxs]  # (3, C, Ky, Kx)\n",
    "\n",
    "        # 3) k1_slices: 마스크 + 샘플링\n",
    "        mask_vol, _ = self.mask_func(k1.shape)\n",
    "        mask_vol    = mask_vol.to(k1.dtype)\n",
    "        k1_masked   = k1 * mask_vol\n",
    "        k1_slices   = k1_masked[idxs]  # (3, C, Ky, Kx)\n",
    "\n",
    "        # 4) k2_slices: flip + noise 후 샘플링\n",
    "        if random.random() < self.flip_prob:\n",
    "            k2 = torch.flip(k2, dims=[-1])\n",
    "        std       = self.noise_std * torch.std(torch.abs(k2))\n",
    "        k2_noised = k2 + torch.randn_like(k2) * std\n",
    "        k2_slices = k2_noised[idxs]      # (3, C, Ky, Kx)\n",
    "\n",
    "        k_slices = k1_slices + k2_slices + k2_ori\n",
    "        print(f\"[DEBUG] k_slices.shape = {k_slices.shape}\")\n",
    "\n",
    "        # RSS and normalization\n",
    "        mag = torch.abs(k_slices)\n",
    "        rss = torch.sqrt(torch.sum(mag**2, dim=1))  # (3, Ky, Kx)\n",
    "        rss = (rss - rss.mean()) / (rss.std() + 1e-8)\n",
    "\n",
    "        # pad and return\n",
    "        pad_h = self.max_h - Ky\n",
    "        pad_w = self.max_w - Kx\n",
    "        x = F.pad(rss, (0, pad_w, 0, pad_h), mode='constant', value=0.0)\n",
    "        y = label_from_name(os.path.basename(path))\n",
    "        return x.float(), torch.tensor(y, dtype=torch.long)\n"
   ]
  },
  {
   "cell_type": "markdown",
   "id": "aa8b9d52",
   "metadata": {},
   "source": [
    "Test 용 디버깅 툴\n"
   ]
  },
  {
   "cell_type": "code",
   "execution_count": 17,
   "id": "e8d73d4f",
   "metadata": {},
   "outputs": [
    {
     "name": "stdout",
     "output_type": "stream",
     "text": [
      "▶ Found 340 files\n",
      "Dataset length: 340\n",
      "[DEBUG] k_slices.shape = torch.Size([3, 16, 768, 396])\n",
      "Single sample x0.shape: torch.Size([3, 768, 480]) y0: tensor(1)\n",
      "[DEBUG] k_slices.shape = torch.Size([3, 16, 768, 396])\n",
      "[DEBUG] k_slices.shape = torch.Size([3, 16, 768, 396])\n",
      "Batch bx.shape: torch.Size([2, 3, 768, 480]) by.shape: torch.Size([2])\n"
     ]
    }
   ],
   "source": [
    "# 3) 데이터 경로, Dataset/Loader 생성 & 테스트\n",
    "data_dir  = \"Data/train/kspace\"\n",
    "paths     = sorted(glob.glob(f\"{data_dir}/*.h5\"))\n",
    "print(\"▶ Found\", len(paths), \"files\")\n",
    "\n",
    "ds = KSpaceDataset(paths)\n",
    "print(\"Dataset length:\", len(ds))\n",
    "\n",
    "# (1) 단일 샘플 호출\n",
    "x0, y0 = ds[0]\n",
    "print(\"Single sample x0.shape:\", x0.shape, \"y0:\", y0)\n",
    "\n",
    "# (2) DataLoader 호출 (num_workers=0 으로)\n",
    "loader = DataLoader(ds, batch_size=2, shuffle=False, num_workers=0, pin_memory=True)\n",
    "bx, by = next(iter(loader))\n",
    "print(\"Batch bx.shape:\", bx.shape, \"by.shape:\", by.shape)\n"
   ]
  },
  {
   "cell_type": "code",
   "execution_count": null,
   "id": "2fbb9d74",
   "metadata": {},
   "outputs": [],
   "source": []
  }
 ],
 "metadata": {
  "kernelspec": {
   "display_name": "fastmri",
   "language": "python",
   "name": "python3"
  },
  "language_info": {
   "codemirror_mode": {
    "name": "ipython",
    "version": 3
   },
   "file_extension": ".py",
   "mimetype": "text/x-python",
   "name": "python",
   "nbconvert_exporter": "python",
   "pygments_lexer": "ipython3",
   "version": "3.10.18"
  }
 },
 "nbformat": 4,
 "nbformat_minor": 5
}
